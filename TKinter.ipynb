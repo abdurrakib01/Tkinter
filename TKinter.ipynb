{
 "cells": [
  {
   "cell_type": "code",
   "execution_count": 2,
   "id": "039bd7e1",
   "metadata": {},
   "outputs": [],
   "source": [
    "from tkinter import *"
   ]
  },
  {
   "cell_type": "code",
   "execution_count": 2,
   "id": "2774e16f",
   "metadata": {},
   "outputs": [],
   "source": [
    "# creating window for our model\n",
    "\n",
    "window = Tk()\n",
    "window.title(\"Clothing Segmentation\")\n",
    "window.geometry(\"750x250\")\n",
    "label1 = Label(window, text='Nicely Done!')\n",
    "label2 = Label(window, text='Try More!')\n",
    "#label1.pack()\n",
    "label1.grid(row=0, column=0)  # selecting the position of text in window\n",
    "label2.grid(row=1, column=9)\n",
    "window.mainloop()"
   ]
  },
  {
   "cell_type": "code",
   "execution_count": 4,
   "id": "0cbf6de1",
   "metadata": {},
   "outputs": [],
   "source": [
    "# Update version of fist tkinter model\n",
    "\n",
    "window = Tk()\n",
    "window.title('Nice!')\n",
    "window.geometry(\"750x250\")\n",
    "label3 = Label(window, text='Assign txt and position at the same time').grid(row=1, column=3)\n",
    "window.mainloop()"
   ]
  },
  {
   "cell_type": "code",
   "execution_count": null,
   "id": "bbd71c30",
   "metadata": {},
   "outputs": [],
   "source": []
  },
  {
   "cell_type": "markdown",
   "id": "d418e164",
   "metadata": {},
   "source": [
    "### creating button"
   ]
  },
  {
   "cell_type": "code",
   "execution_count": 5,
   "id": "566f17e2",
   "metadata": {},
   "outputs": [],
   "source": [
    "window = Tk()\n",
    "window.geometry(\"750x250\")\n",
    "\n",
    "def massage():\n",
    "    Label(window, text=\"See! i click a button!!\", font=('Century 20 bold')).pack(pady=4)\n",
    "    \n",
    "but_1 = Button(window, text='predict', padx=50, pady=5, command=massage, fg='blue', bg='grey').pack() # adding color with fg\n",
    "\n",
    "\n",
    "window.mainloop()\n"
   ]
  },
  {
   "cell_type": "code",
   "execution_count": null,
   "id": "80698476",
   "metadata": {},
   "outputs": [],
   "source": []
  },
  {
   "cell_type": "markdown",
   "id": "781ff7d1",
   "metadata": {},
   "source": [
    "### input fields"
   ]
  },
  {
   "cell_type": "code",
   "execution_count": 6,
   "id": "9c622970",
   "metadata": {},
   "outputs": [],
   "source": [
    "win = Tk()\n",
    "win.geometry('750x250')\n",
    "    \n",
    "input_entry = Entry(win, width=40).pack(pady=10)  # creating a Input field\n",
    "def massage():\n",
    "    Label(win, text='done!').pack(pady=4)\n",
    "button1 = Button(win, text='get_massage!', fg='blue', command=massage).pack(pady=10)\n",
    "\n",
    "win.mainloop()"
   ]
  },
  {
   "cell_type": "code",
   "execution_count": null,
   "id": "7af67934",
   "metadata": {},
   "outputs": [],
   "source": []
  },
  {
   "cell_type": "markdown",
   "id": "d2d6d1a5",
   "metadata": {},
   "source": [
    "### Open fileExplorer"
   ]
  },
  {
   "cell_type": "code",
   "execution_count": 13,
   "id": "4ae80a30",
   "metadata": {},
   "outputs": [],
   "source": [
    "from tkinter import filedialog\n",
    "window = Tk()\n",
    "window.title('File Explorer')\n",
    "window.geometry('750x250')\n",
    "\n",
    "def browserFile():\n",
    "    filename = filedialog.askopenfilename(initialdir='H:\\Machine Learning\\Image_for_task',\n",
    "                                         title='Select a File',\n",
    "                                         filetype = (('JPG File', \"*.jpg*\"),\n",
    "                                                    ('all files', \"*.*\")))\n",
    "\n",
    "button1 = Button(window, text=\"Get File\",padx=30, fg='blue', command=browserFile).pack(pady=10)\n",
    "window.mainloop()"
   ]
  },
  {
   "cell_type": "code",
   "execution_count": null,
   "id": "cff1aa82",
   "metadata": {},
   "outputs": [],
   "source": []
  },
  {
   "cell_type": "markdown",
   "id": "3ae33e47",
   "metadata": {},
   "source": [
    "### Calculator"
   ]
  },
  {
   "cell_type": "code",
   "execution_count": 3,
   "id": "225ad103",
   "metadata": {},
   "outputs": [],
   "source": [
    "arr = []\n",
    "def button_click(number):\n",
    "    global arr\n",
    "    screen.delete(0, END)\n",
    "    screen.insert(0, number)\n",
    "    arr.append(number)\n",
    "    if len(arr) == 2:\n",
    "        sum1 = sum(arr)\n",
    "        screen.delete(0, END)\n",
    "        screen.insert(0, str(sum1))\n",
    "        arr = []\n",
    "def clear():\n",
    "    screen.delete(0, END)\n",
    "    \n",
    "window = Tk()\n",
    "window.title('Calculator')\n",
    "window.geometry(\"290x325\")\n",
    "window.minsize(290,325)\n",
    "window.maxsize(290,325)\n",
    "screen = Entry(window, width=40)\n",
    "screen.grid(row=0, column=0, columnspan=3, padx=10, pady=10, ipady=15)\n",
    "#button\n",
    "button1 = Button(window, text='1', padx=40, pady=20, command=lambda: button_click(1)).grid(row=3, column=0)\n",
    "button2 = Button(window, text='2', padx=40, pady=20, command=lambda: button_click(2)).grid(row=3, column=1)\n",
    "button3 = Button(window, text='3', padx=40, pady=20, command=lambda: button_click(3)).grid(row=3, column=2)\n",
    "button4 = Button(window, text='4', padx=40, pady=20, command=lambda: button_click(4)).grid(row=2, column=0)\n",
    "button5 = Button(window, text='5', padx=40, pady=20, command=lambda: button_click(5)).grid(row=2, column=1)\n",
    "button6 = Button(window, text='6', padx=40, pady=20, command=lambda: button_click(6)).grid(row=2, column=2)\n",
    "button7 = Button(window, text='7', padx=40, pady=20, command=lambda: button_click(7)).grid(row=1, column=0)\n",
    "button8 = Button(window, text='8', padx=40, pady=20, command=lambda: button_click(8)).grid(row=1, column=1)\n",
    "button9 = Button(window, text='9', padx=40, pady=20, command=lambda: button_click(9)).grid(row=1, column=2)\n",
    "button0 = Button(window, text='0', padx=40, pady=20, command=lambda: button_click(0)).grid(row=4, column=0)\n",
    "buttonClear = Button(window, text='Clear', padx=80, pady=20, command=clear).grid(row=4, column=1,columnspan=2)\n",
    "window.mainloop()"
   ]
  },
  {
   "cell_type": "code",
   "execution_count": 23,
   "id": "bdc8010d",
   "metadata": {},
   "outputs": [],
   "source": []
  },
  {
   "cell_type": "markdown",
   "id": "56d38947",
   "metadata": {},
   "source": [
    "### Display Image in Window"
   ]
  },
  {
   "cell_type": "code",
   "execution_count": 4,
   "id": "0d981ee1",
   "metadata": {},
   "outputs": [],
   "source": [
    "from PIL import ImageTk, Image\n",
    "\n",
    "window = Tk()\n",
    "window.title('Nice!')\n",
    "window.geometry(\"750x450\")\n",
    "\n",
    "img = ImageTk.PhotoImage(Image.open('H:\\Machine Learning\\Image_for_task\\dress.jpg'))\n",
    "label2 = Label(image = img).pack()\n",
    "label3 = Label(window, text='Work Hard!!').pack()\n",
    "window.mainloop()"
   ]
  },
  {
   "cell_type": "code",
   "execution_count": null,
   "id": "73a81d03",
   "metadata": {},
   "outputs": [],
   "source": []
  },
  {
   "cell_type": "code",
   "execution_count": null,
   "id": "eaccb5a6",
   "metadata": {},
   "outputs": [],
   "source": []
  },
  {
   "cell_type": "markdown",
   "id": "df48feca",
   "metadata": {},
   "source": [
    "### Frame For Project"
   ]
  },
  {
   "cell_type": "code",
   "execution_count": 7,
   "id": "9a7078c8",
   "metadata": {},
   "outputs": [],
   "source": [
    "from tkinter import *\n",
    "from PIL import ImageTk, Image\n",
    "from tkinter import filedialog\n",
    "\n",
    "window = Tk()\n",
    "window.title(\"Clothing Segmentation\")\n",
    "window.geometry(\"750x450\")\n",
    "window.minsize(750, 450)\n",
    "window.maxsize(750, 450)\n",
    "img = ImageTk.PhotoImage(Image.open('d.jpg'))\n",
    "window.config(bg='grey')\n",
    "\n",
    "def access_image():\n",
    "    file = selected_file()\n",
    "    \n",
    "    img = Image.open(file)\n",
    "    img = img.resize((250, 280), Image.ANTIALIAS)\n",
    "    img = ImageTk.PhotoImage(img)\n",
    "    label= Label(window, image=img)\n",
    "    label.photo = img\n",
    "    label.grid(column=0, row=1)\n",
    "    \n",
    "def selected_file():\n",
    "    filename = filedialog.askopenfilename(initialdir='H:\\Machine Learning\\Image_for_task',\n",
    "                                         title='Select a File',\n",
    "                                         filetype = (('JPG File', \"*.jpg*\"),\n",
    "                                                    ('all files', \"*.*\")))\n",
    "    return filename\n",
    "    \n",
    "button1 = Button(window, text='Select Image', padx=30,fg='white', bg='blue', command=access_image)\n",
    "button1.grid(row=0, column=0, padx=300)\n",
    "\n",
    "img = Image.open('init.jpg')\n",
    "img = img.resize((250, 280), Image.ANTIALIAS)\n",
    "img = ImageTk.PhotoImage(img)\n",
    "img_label= Label(window, image=img)\n",
    "img_label.grid(column=0, row=1)\n",
    "\n",
    "button2 = Button(window, text='Predict', padx=30, fg='white', bg='blue')\n",
    "button2.grid(row=2, column=0, padx=300)\n",
    "\n",
    "\n",
    "window.mainloop()"
   ]
  },
  {
   "cell_type": "code",
   "execution_count": null,
   "id": "fc123ee0",
   "metadata": {},
   "outputs": [],
   "source": []
  },
  {
   "cell_type": "code",
   "execution_count": null,
   "id": "9e9c550f",
   "metadata": {},
   "outputs": [],
   "source": []
  },
  {
   "cell_type": "code",
   "execution_count": 3,
   "id": "e8d68fb4",
   "metadata": {},
   "outputs": [],
   "source": []
  },
  {
   "cell_type": "code",
   "execution_count": null,
   "id": "6b28d6b7",
   "metadata": {},
   "outputs": [],
   "source": []
  },
  {
   "cell_type": "code",
   "execution_count": null,
   "id": "fd021f31",
   "metadata": {},
   "outputs": [],
   "source": []
  }
 ],
 "metadata": {
  "kernelspec": {
   "display_name": "Python 3",
   "language": "python",
   "name": "python3"
  },
  "language_info": {
   "codemirror_mode": {
    "name": "ipython",
    "version": 3
   },
   "file_extension": ".py",
   "mimetype": "text/x-python",
   "name": "python",
   "nbconvert_exporter": "python",
   "pygments_lexer": "ipython3",
   "version": "3.8.8"
  }
 },
 "nbformat": 4,
 "nbformat_minor": 5
}
