{
 "cells": [
  {
   "cell_type": "code",
   "execution_count": 3,
   "id": "039bd7e1",
   "metadata": {},
   "outputs": [],
   "source": [
    "from tkinter import *"
   ]
  },
  {
   "cell_type": "code",
   "execution_count": 26,
   "id": "2774e16f",
   "metadata": {},
   "outputs": [],
   "source": [
    "# creating window for our model\n",
    "\n",
    "window = Tk()\n",
    "window.title(\"Clothing Segmentation\")\n",
    "window.geometry(\"750x250\")\n",
    "label1 = Label(window, text='Nicely Done!')\n",
    "label2 = Label(window, text='Try More!')\n",
    "#label1.pack()\n",
    "label1.grid(row=0, column=0)  # selecting the position of text in window\n",
    "label2.grid(row=1, column=9)\n",
    "window.mainloop()"
   ]
  },
  {
   "cell_type": "code",
   "execution_count": 25,
   "id": "6fca773a",
   "metadata": {},
   "outputs": [],
   "source": [
    "# Update version of fist tkinter model\n",
    "\n",
    "window = Tk()\n",
    "window.title('Nice!')\n",
    "window.geometry(\"750x250\")\n",
    "label3 = Label(window, text='Assign txt and position at the same time').grid(row=1, column=3)\n",
    "window.mainloop()"
   ]
  },
  {
   "cell_type": "markdown",
   "id": "b59cfbee",
   "metadata": {},
   "source": [
    "### creating button"
   ]
  },
  {
   "cell_type": "code",
   "execution_count": 48,
   "id": "e3621d8a",
   "metadata": {},
   "outputs": [],
   "source": [
    "window = Tk()\n",
    "window.geometry(\"750x250\")\n",
    "\n",
    "def massage():\n",
    "    Label(window, text=\"See! i click a button!!\", font=('Century 20 bold')).pack(pady=4)\n",
    "    \n",
    "but_1 = Button(window, text='predict', padx=50, pady=5, command=massage, fg='blue', bg='grey').pack() # adding color with fg\n",
    "\n",
    "\n",
    "window.mainloop()\n"
   ]
  },
  {
   "cell_type": "markdown",
   "id": "59f57833",
   "metadata": {},
   "source": [
    "### input fields"
   ]
  },
  {
   "cell_type": "code",
   "execution_count": 76,
   "id": "4e28df9a",
   "metadata": {},
   "outputs": [
    {
     "ename": "AttributeError",
     "evalue": "'NoneType' object has no attribute 'get'",
     "output_type": "error",
     "traceback": [
      "\u001b[1;31m---------------------------------------------------------------------------\u001b[0m",
      "\u001b[1;31mAttributeError\u001b[0m                            Traceback (most recent call last)",
      "\u001b[1;32m<ipython-input-76-fa21ffc19620>\u001b[0m in \u001b[0;36m<module>\u001b[1;34m\u001b[0m\n\u001b[0;32m      3\u001b[0m \u001b[1;33m\u001b[0m\u001b[0m\n\u001b[0;32m      4\u001b[0m \u001b[0minput_entry\u001b[0m \u001b[1;33m=\u001b[0m \u001b[0mEntry\u001b[0m\u001b[1;33m(\u001b[0m\u001b[0mwin\u001b[0m\u001b[1;33m,\u001b[0m \u001b[0mwidth\u001b[0m\u001b[1;33m=\u001b[0m\u001b[1;36m40\u001b[0m\u001b[1;33m)\u001b[0m\u001b[1;33m.\u001b[0m\u001b[0mpack\u001b[0m\u001b[1;33m(\u001b[0m\u001b[0mpady\u001b[0m\u001b[1;33m=\u001b[0m\u001b[1;36m10\u001b[0m\u001b[1;33m)\u001b[0m  \u001b[1;31m# creating a Input field\u001b[0m\u001b[1;33m\u001b[0m\u001b[1;33m\u001b[0m\u001b[0m\n\u001b[1;32m----> 5\u001b[1;33m \u001b[0mx\u001b[0m \u001b[1;33m=\u001b[0m \u001b[0minput_entry\u001b[0m\u001b[1;33m.\u001b[0m\u001b[0mget\u001b[0m\u001b[1;33m(\u001b[0m\u001b[1;33m)\u001b[0m\u001b[1;33m\u001b[0m\u001b[1;33m\u001b[0m\u001b[0m\n\u001b[0m\u001b[0;32m      6\u001b[0m \u001b[1;32mdef\u001b[0m \u001b[0mmassage\u001b[0m\u001b[1;33m(\u001b[0m\u001b[1;33m)\u001b[0m\u001b[1;33m:\u001b[0m\u001b[1;33m\u001b[0m\u001b[1;33m\u001b[0m\u001b[0m\n\u001b[0;32m      7\u001b[0m     \u001b[0mLabel\u001b[0m\u001b[1;33m(\u001b[0m\u001b[0mwin\u001b[0m\u001b[1;33m,\u001b[0m \u001b[0mtext\u001b[0m\u001b[1;33m=\u001b[0m\u001b[0mte\u001b[0m\u001b[1;33m)\u001b[0m\u001b[1;33m.\u001b[0m\u001b[0mpack\u001b[0m\u001b[1;33m(\u001b[0m\u001b[0mpady\u001b[0m\u001b[1;33m=\u001b[0m\u001b[1;36m4\u001b[0m\u001b[1;33m)\u001b[0m\u001b[1;33m\u001b[0m\u001b[1;33m\u001b[0m\u001b[0m\n",
      "\u001b[1;31mAttributeError\u001b[0m: 'NoneType' object has no attribute 'get'"
     ]
    }
   ],
   "source": [
    "win = Tk()\n",
    "win.geometry('750x250')\n",
    "    \n",
    "input_entry = Entry(win, width=40).pack(pady=10)  # creating a Input field\n",
    "x = input_entry.get()\n",
    "def massage():\n",
    "    Label(win, text=te).pack(pady=4)\n",
    "button1 = Button(win, text='get_massage!', fg='blue', command=massage).pack(pady=10)\n",
    "\n",
    "win.mainloop()"
   ]
  },
  {
   "cell_type": "code",
   "execution_count": null,
   "id": "238e7773",
   "metadata": {},
   "outputs": [],
   "source": []
  },
  {
   "cell_type": "code",
   "execution_count": null,
   "id": "0b3f00d6",
   "metadata": {},
   "outputs": [],
   "source": []
  },
  {
   "cell_type": "code",
   "execution_count": 41,
   "id": "4ae80a30",
   "metadata": {},
   "outputs": [],
   "source": [
    "#Import tkinter library\n",
    "from tkinter import *\n",
    "#Create an instance of Tkinter frame or window\n",
    "win= Tk()\n",
    "#Set the geometry of tkinter frame\n",
    "win.geometry(\"750x250\")\n",
    "def callback():\n",
    "   Label(win, text=\"Hello World!\", font=('Century 20 bold')).pack(pady=4)\n",
    "#Create a Label and a Button widget\n",
    "btn=Button(win, text=\"Press Enter\", command= callback)\n",
    "btn.pack(ipadx=10)\n",
    "win.bind('<Return>',lambda event:callback())\n",
    "win.mainloop()"
   ]
  },
  {
   "cell_type": "code",
   "execution_count": null,
   "id": "d5460ab0",
   "metadata": {},
   "outputs": [],
   "source": []
  },
  {
   "cell_type": "code",
   "execution_count": null,
   "id": "bf8cdd7c",
   "metadata": {},
   "outputs": [],
   "source": []
  },
  {
   "cell_type": "code",
   "execution_count": 79,
   "id": "91a0b8e9",
   "metadata": {},
   "outputs": [],
   "source": []
  },
  {
   "cell_type": "code",
   "execution_count": 82,
   "id": "4d5c3f87",
   "metadata": {},
   "outputs": [],
   "source": [
    "from tkinter import *\n",
    "  \n",
    "# import filedialog module\n",
    "from tkinter import filedialog\n",
    "  \n",
    "# Function for opening the\n",
    "# file explorer window\n",
    "def browseFiles():\n",
    "    filename = filedialog.askopenfilename(initialdir = \"H:\\Machine Learning\\Image_for_task\",\n",
    "                                          title = \"Select a File\",\n",
    "                                          filetypes = ((\"JPG File\",\n",
    "                                                        \"*.jpg*\"),\n",
    "                                                       (\"all files\",\n",
    "                                                        \"*.*\")))\n",
    "    # Change label contents\n",
    "    label_file_explorer.configure(text=\"File Opened: \"+filename)\n",
    "window = Tk()\n",
    "  \n",
    "# Set window title\n",
    "window.title('File Explorer')\n",
    "  \n",
    "# Set window size\n",
    "window.geometry(\"500x500\")\n",
    "  \n",
    "#Set window background color\n",
    "window.config(background = \"white\")\n",
    "  \n",
    "# Create a File Explorer label\n",
    "label_file_explorer = Label(window,\n",
    "                            text = \"File Explorer using Tkinter\",\n",
    "                            width = 100, height = 4,\n",
    "                            fg = \"blue\")\n",
    "  \n",
    "      \n",
    "button_explore = Button(window,\n",
    "                        text = \"Browse Files\",\n",
    "                        command = browseFiles)\n",
    "button_exit = Button(window,\n",
    "                     text = \"Exit\",\n",
    "                     command = exit)\n",
    "  \n",
    "# Grid method is chosen for placing\n",
    "# the widgets at respective positions\n",
    "# in a table like structure by\n",
    "# specifying rows and columns\n",
    "label_file_explorer.grid(column = 1, row = 1)\n",
    "  \n",
    "button_explore.grid(column = 1, row = 2)\n",
    "  \n",
    "button_exit.grid(column = 1,row = 3)\n",
    "  \n",
    "# Let the window wait for any events\n",
    "window.mainloop()"
   ]
  },
  {
   "cell_type": "code",
   "execution_count": null,
   "id": "475bc9bf",
   "metadata": {},
   "outputs": [],
   "source": []
  }
 ],
 "metadata": {
  "kernelspec": {
   "display_name": "Python 3",
   "language": "python",
   "name": "python3"
  },
  "language_info": {
   "codemirror_mode": {
    "name": "ipython",
    "version": 3
   },
   "file_extension": ".py",
   "mimetype": "text/x-python",
   "name": "python",
   "nbconvert_exporter": "python",
   "pygments_lexer": "ipython3",
   "version": "3.8.8"
  }
 },
 "nbformat": 4,
 "nbformat_minor": 5
}
